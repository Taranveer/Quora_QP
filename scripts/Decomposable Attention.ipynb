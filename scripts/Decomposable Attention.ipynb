{
 "cells": [
  {
   "cell_type": "code",
   "execution_count": 19,
   "metadata": {
    "collapsed": true
   },
   "outputs": [],
   "source": [
    "from __future__ import division\n",
    "import matplotlib.pyplot as plt\n",
    "import numpy as np\n",
    "import dynet as dy\n",
    "import pickle"
   ]
  },
  {
   "cell_type": "code",
   "execution_count": 20,
   "metadata": {
    "collapsed": true
   },
   "outputs": [],
   "source": [
    "labels = pickle.load(open(\"../corpus/labels_40000.pkl\"))\n"
   ]
  },
  {
   "cell_type": "markdown",
   "metadata": {},
   "source": [
    "Training part"
   ]
  },
  {
   "cell_type": "code",
   "execution_count": 21,
   "metadata": {
    "collapsed": true
   },
   "outputs": [],
   "source": [
    "sentence_model_filename = \"../models/sentence_structure_40k.npz\"\n",
    "def load_model():\n",
    "    with np.load(sentence_model_filename) as data:\n",
    "        sent_indices = data[\"sent_indices\"]\n",
    "        sent_mask = data[\"sent_mask\"]\n",
    "    return sent_indices, sent_mask"
   ]
  },
  {
   "cell_type": "code",
   "execution_count": 51,
   "metadata": {},
   "outputs": [
    {
     "name": "stdout",
     "output_type": "stream",
     "text": [
      "(808580, 245)\n"
     ]
    }
   ],
   "source": [
    "sent_indices, sent_mask = load_model()\n",
    "sent_count = sent_indices.shape[0]\n",
    "max_length = sent_indices.shape[1]\n",
    "print(sent_count, max_length)"
   ]
  },
  {
   "cell_type": "code",
   "execution_count": 35,
   "metadata": {},
   "outputs": [],
   "source": [
    "empty_index1 = np.argwhere(np.sum(sent_mask[sent_count//2:sent_count,:], axis = 1, dtype = int)== 0)\n",
    "empty_index2 = np.argwhere(np.sum(sent_mask[:sent_count//2,:], axis = 1, dtype = int) == 0)"
   ]
  },
  {
   "cell_type": "code",
   "execution_count": 50,
   "metadata": {},
   "outputs": [
    {
     "data": {
      "text/plain": [
       "808398"
      ]
     },
     "execution_count": 50,
     "metadata": {},
     "output_type": "execute_result"
    }
   ],
   "source": [
    "l = np.union1d(empty_index1,empty_index2)\n",
    "empty_count = l.shape[0]\n",
    "sent_count -= 2*empty_count\n",
    "sent_count"
   ]
  },
  {
   "cell_type": "code",
   "execution_count": 46,
   "metadata": {},
   "outputs": [],
   "source": [
    "sent_ind = np.zeros(sent_count,max_length)\n",
    "sent_masks = np.zeros(sent_count,max_length)\n",
    "sent_ind[0:sent_count//2,:] = np.delete(sent_indices[:sent_count//2], l, axis = 0)\n",
    "sent_ind[sent_count//2:sent_count,:] = np.delete(sent_indices[sent_count//2:sent_count], l, axis = 0)\n",
    "sent_masks[0:sent_count//2 - empty_count,:] = np.delete(sent_mask[:sent_count//2], l, axis = 0)\n",
    "sent_masks[sent_count//2:sent_count - empty_count,:] = np.delete(sent_mask[sent_count//2:sent_count], l, axis = 0)\n",
    "labels = np.delete(labels, l, axis = 0)"
   ]
  },
  {
   "cell_type": "code",
   "execution_count": 49,
   "metadata": {},
   "outputs": [
    {
     "name": "stdout",
     "output_type": "stream",
     "text": [
      "(808580, 245)\n",
      "[ 0.  0.  0.  0.  0.  0.  0.  0.  0.  0.  0.  0.  0.  0.  0.  0.  0.  0.\n",
      "  0.  0.  0.  0.  0.  0.  0.  0.  0.  0.  0.  0.  0.  0.  0.  0.  0.  0.\n",
      "  0.  0.  0.  0.  0.  0.  0.  0.  0.  0.  0.  0.  0.  0.  0.  0.  0.  0.\n",
      "  0.  0.  0.  0.  0.  0.  0.  0.  0.  0.  0.  0.  0.  0.  0.  0.  0.  0.\n",
      "  0.  0.  0.  0.  0.  0.  0.  0.  0.  0.  0.  0.  0.  0.  0.  0.  0.  0.\n",
      "  0.  0.  0.  0.  0.  0.  0.  0.  0.  0.  0.  0.  0.  0.  0.  0.  0.  0.\n",
      "  0.  0.  0.  0.  0.  0.  0.  0.  0.  0.  0.  0.  0.  0.  0.  0.  0.  0.\n",
      "  0.  0.  0.  0.  0.  0.  0.  0.  0.  0.  0.  0.  0.  0.  0.  0.  0.  0.\n",
      "  0.  0.  0.  0.  0.  0.  0.  0.  0.  0.  0.  0.  0.  0.  0.  0.  0.  0.\n",
      "  0.  0.  0.  0.  0.  0.  0.  0.  0.  0.  0.  0.  0.  0.  0.  0.  0.  0.\n",
      "  0.  0.  0.  0.  0.  0.  0.  0.  0.  0.  0.  0.  0.  0.  0.  0.  0.  0.\n",
      "  0.  0.  0.  0.  0.  0.  0.  0.  0.  0.  0.  0.  0.  0.  0.  0.  0.  0.\n",
      "  0.  0.  0.  0.  0.  0.  0.  0.  0.  0.  0.  0.  0.  0.  0.  0.  0.  0.\n",
      "  0.  0.  0.  0.  0.  0.  0.  0.  0.  0.  0.]\n",
      "(404199,)\n"
     ]
    }
   ],
   "source": [
    "print(sent_ind.shape)\n",
    "print(sent_masks[-1,:])\n",
    "print(labels.shape)"
   ]
  },
  {
   "cell_type": "code",
   "execution_count": 15,
   "metadata": {},
   "outputs": [
    {
     "ename": "ValueError",
     "evalue": "CwiseSum: For each dimension, the dim size needs to match or equal 1.",
     "output_type": "error",
     "traceback": [
      "\u001b[0;31m---------------------------------------------------------------------------\u001b[0m",
      "\u001b[0;31mValueError\u001b[0m                                Traceback (most recent call last)",
      "\u001b[0;32m<ipython-input-15-e0a458f0a755>\u001b[0m in \u001b[0;36m<module>\u001b[0;34m()\u001b[0m\n\u001b[1;32m    116\u001b[0m     \u001b[0mmodel\u001b[0m\u001b[0;34m.\u001b[0m\u001b[0mtrain\u001b[0m\u001b[0;34m(\u001b[0m\u001b[0;34m)\u001b[0m\u001b[0;34m\u001b[0m\u001b[0m\n\u001b[1;32m    117\u001b[0m \u001b[0;34m\u001b[0m\u001b[0m\n\u001b[0;32m--> 118\u001b[0;31m \u001b[0mmain\u001b[0m\u001b[0;34m(\u001b[0m\u001b[0;34m)\u001b[0m\u001b[0;34m\u001b[0m\u001b[0m\n\u001b[0m",
      "\u001b[0;32m<ipython-input-15-e0a458f0a755>\u001b[0m in \u001b[0;36mmain\u001b[0;34m()\u001b[0m\n\u001b[1;32m    114\u001b[0m \u001b[0;34m\u001b[0m\u001b[0m\n\u001b[1;32m    115\u001b[0m     \u001b[0mmodel\u001b[0m \u001b[0;34m=\u001b[0m \u001b[0mdecomposable_attention\u001b[0m\u001b[0;34m(\u001b[0m\u001b[0msent_indices\u001b[0m\u001b[0;34m,\u001b[0m \u001b[0msent_mask\u001b[0m\u001b[0;34m,\u001b[0m \u001b[0mlabels\u001b[0m\u001b[0;34m,\u001b[0m \u001b[0membedding_dim\u001b[0m\u001b[0;34m=\u001b[0m\u001b[0;36m128\u001b[0m\u001b[0;34m,\u001b[0m \u001b[0mdebug\u001b[0m\u001b[0;34m=\u001b[0m\u001b[0mFalse\u001b[0m\u001b[0;34m)\u001b[0m\u001b[0;34m\u001b[0m\u001b[0m\n\u001b[0;32m--> 116\u001b[0;31m     \u001b[0mmodel\u001b[0m\u001b[0;34m.\u001b[0m\u001b[0mtrain\u001b[0m\u001b[0;34m(\u001b[0m\u001b[0;34m)\u001b[0m\u001b[0;34m\u001b[0m\u001b[0m\n\u001b[0m\u001b[1;32m    117\u001b[0m \u001b[0;34m\u001b[0m\u001b[0m\n\u001b[1;32m    118\u001b[0m \u001b[0mmain\u001b[0m\u001b[0;34m(\u001b[0m\u001b[0;34m)\u001b[0m\u001b[0;34m\u001b[0m\u001b[0m\n",
      "\u001b[0;32m<ipython-input-15-e0a458f0a755>\u001b[0m in \u001b[0;36mtrain\u001b[0;34m(self)\u001b[0m\n\u001b[1;32m     96\u001b[0m                 \u001b[0mlabel\u001b[0m \u001b[0;34m=\u001b[0m \u001b[0mself\u001b[0m\u001b[0;34m.\u001b[0m\u001b[0mlabels\u001b[0m\u001b[0;34m[\u001b[0m\u001b[0mk\u001b[0m\u001b[0;34m]\u001b[0m\u001b[0;34m\u001b[0m\u001b[0m\n\u001b[1;32m     97\u001b[0m \u001b[0;34m\u001b[0m\u001b[0m\n\u001b[0;32m---> 98\u001b[0;31m                 \u001b[0mscore\u001b[0m \u001b[0;34m=\u001b[0m \u001b[0mself\u001b[0m\u001b[0;34m.\u001b[0m\u001b[0mforward\u001b[0m\u001b[0;34m(\u001b[0m\u001b[0mx1\u001b[0m\u001b[0;34m,\u001b[0m\u001b[0mx2\u001b[0m\u001b[0;34m,\u001b[0m\u001b[0mlabel\u001b[0m\u001b[0;34m,\u001b[0m\u001b[0mk\u001b[0m\u001b[0;34m,\u001b[0m\u001b[0mtl\u001b[0m\u001b[0;34m)\u001b[0m\u001b[0;34m\u001b[0m\u001b[0m\n\u001b[0m\u001b[1;32m     99\u001b[0m                 \u001b[0mnorm_score\u001b[0m \u001b[0;34m=\u001b[0m \u001b[0mdy\u001b[0m\u001b[0;34m.\u001b[0m\u001b[0mlogistic\u001b[0m\u001b[0;34m(\u001b[0m\u001b[0mscore\u001b[0m\u001b[0;34m)\u001b[0m\u001b[0;34m\u001b[0m\u001b[0m\n\u001b[1;32m    100\u001b[0m \u001b[0;34m\u001b[0m\u001b[0m\n",
      "\u001b[0;32m<ipython-input-15-e0a458f0a755>\u001b[0m in \u001b[0;36mforward\u001b[0;34m(self, x1, x2, label, k, tl)\u001b[0m\n\u001b[1;32m     64\u001b[0m \u001b[0;34m\u001b[0m\u001b[0m\n\u001b[1;32m     65\u001b[0m         \u001b[0mv1i\u001b[0m \u001b[0;34m=\u001b[0m \u001b[0mw2\u001b[0m\u001b[0;34m*\u001b[0m\u001b[0mdy\u001b[0m\u001b[0;34m.\u001b[0m\u001b[0mtranspose\u001b[0m\u001b[0;34m(\u001b[0m\u001b[0mdy\u001b[0m\u001b[0;34m.\u001b[0m\u001b[0mconcatenate_cols\u001b[0m\u001b[0;34m(\u001b[0m\u001b[0;34m[\u001b[0m\u001b[0membeds1\u001b[0m\u001b[0;34m,\u001b[0m\u001b[0mbeta\u001b[0m\u001b[0;34m]\u001b[0m\u001b[0;34m)\u001b[0m\u001b[0;34m)\u001b[0m \u001b[0;34m+\u001b[0m \u001b[0mb2\u001b[0m\u001b[0;34m\u001b[0m\u001b[0m\n\u001b[0;32m---> 66\u001b[0;31m         \u001b[0mv2j\u001b[0m \u001b[0;34m=\u001b[0m \u001b[0mw3\u001b[0m\u001b[0;34m*\u001b[0m\u001b[0mdy\u001b[0m\u001b[0;34m.\u001b[0m\u001b[0mtranspose\u001b[0m\u001b[0;34m(\u001b[0m\u001b[0mdy\u001b[0m\u001b[0;34m.\u001b[0m\u001b[0mconcatenate_cols\u001b[0m\u001b[0;34m(\u001b[0m\u001b[0;34m[\u001b[0m\u001b[0membeds2\u001b[0m\u001b[0;34m,\u001b[0m\u001b[0malpha\u001b[0m\u001b[0;34m]\u001b[0m\u001b[0;34m)\u001b[0m\u001b[0;34m)\u001b[0m \u001b[0;34m+\u001b[0m \u001b[0mb3\u001b[0m\u001b[0;34m\u001b[0m\u001b[0m\n\u001b[0m\u001b[1;32m     67\u001b[0m         \u001b[0;32mif\u001b[0m \u001b[0mdebug\u001b[0m\u001b[0;34m:\u001b[0m\u001b[0;34m\u001b[0m\u001b[0m\n\u001b[1;32m     68\u001b[0m             \u001b[0;32mprint\u001b[0m\u001b[0;34m(\u001b[0m\u001b[0;34m'v1:'\u001b[0m\u001b[0;34m,\u001b[0m \u001b[0;34m(\u001b[0m\u001b[0membedding_dim\u001b[0m\u001b[0;34m,\u001b[0m\u001b[0mlen1\u001b[0m\u001b[0;34m[\u001b[0m\u001b[0mk\u001b[0m\u001b[0;34m]\u001b[0m\u001b[0;34m)\u001b[0m\u001b[0;34m,\u001b[0m \u001b[0mv1i\u001b[0m\u001b[0;34m.\u001b[0m\u001b[0mdim\u001b[0m\u001b[0;34m(\u001b[0m\u001b[0;34m)\u001b[0m\u001b[0;34m)\u001b[0m\u001b[0;34m\u001b[0m\u001b[0m\n",
      "\u001b[0;32m_dynet.pyx\u001b[0m in \u001b[0;36m_dynet.Expression.__add__\u001b[0;34m()\u001b[0m\n",
      "\u001b[0;32m_dynet.pyx\u001b[0m in \u001b[0;36m_dynet._add\u001b[0;34m()\u001b[0m\n",
      "\u001b[0;31mValueError\u001b[0m: CwiseSum: For each dimension, the dim size needs to match or equal 1."
     ]
    }
   ],
   "source": [
    "#def similarity():\n",
    "    \n",
    "#data is already in data numpy matrix\n",
    "\n",
    "class decomposable_attention():\n",
    "    def __init__(self,sent_indices, sent_mask, labels, embedding_dim, debug=False):\n",
    "        self.pc = dy.Model()\n",
    "        self.debug = debug\n",
    "        self.embedding_dim = embedding_dim \n",
    "        self.embedding_matrix = self.pc.add_lookup_parameters((16836,embedding_dim))\n",
    "        self.data1 = sent_indices[:404290,:]#np.random.randint(16800,size=(10000,50))\n",
    "        self.data2 = sent_indices[404290:20000,:]#np.random.randint(16800,size=(10000,50))\n",
    "        self.len1 = np.sum(sent_mask[:404290,:], axis = 1, dtype = int)#1+np.random.randint(50,size=10000)\n",
    "        self.len2 = np.sum(sent_mask[404290:20000,:], axis = 1, dtype = int)#1+np.random.randint(50,size=10000)\n",
    "        self.labels = labels\n",
    "        \n",
    "        self.w2 = self.pc.add_parameters((embedding_dim,2*embedding_dim))\n",
    "        self.b2 = self.pc.add_parameters((embedding_dim,1))\n",
    "        \n",
    "        self.w3 = self.pc.add_parameters((embedding_dim,2*embedding_dim))\n",
    "        self.b3 = self.pc.add_parameters((embedding_dim,1))\n",
    "        \n",
    "        self.w = self.pc.add_parameters((1,2*embedding_dim))\n",
    "        self.b = self.pc.add_parameters((1,1))\n",
    "        \n",
    "        \n",
    "    def forward(self,x1,x2,label,k,tl):\n",
    "        \n",
    "        debug = self.debug\n",
    "        len1 = self.len1\n",
    "        len2 = self.len2\n",
    "        embedding_dim = self.embedding_dim\n",
    "        \n",
    "        w = dy.parameter(self.w)\n",
    "        b = dy.parameter(self.b)\n",
    "        w2 = dy.parameter(self.w2)\n",
    "        b2 = dy.parameter(self.b2)\n",
    "        w3 = dy.parameter(self.w3)\n",
    "        b3 = dy.parameter(self.b3)\n",
    "        \n",
    "        embeds1 = dy.reshape(dy.lookup_batch(self.embedding_matrix,x1),(len1[k],embedding_dim))\n",
    "        embeds2 = dy.reshape(dy.lookup_batch(self.embedding_matrix,x2),(len2[k],embedding_dim))\n",
    "\n",
    "        if debug:\n",
    "            print('embedding 1:', (len1[k],embedding_dim), embeds1.dim())\n",
    "            print('embedding 2:', (embedding_dim,len2[k]), embeds2.dim())\n",
    "\n",
    "        similarity = embeds1*dy.transpose(embeds2)\n",
    "        if debug:\n",
    "            print('similarity dimension:', (len1[k],len2[k]), similarity.dim())\n",
    "\n",
    "        n_a = dy.softmax(similarity,d=0)\n",
    "        n_b = dy.softmax(similarity,d=1)\n",
    "        \n",
    "        alpha = dy.transpose(n_a)*embeds1\n",
    "        beta = n_b*embeds2\n",
    "        \n",
    "        if debug:\n",
    "            print('alpha:',(len2[k],embedding_dim), alpha.dim())\n",
    "            print('beta:',(len1[k],embedding_dim), beta.dim())\n",
    "        \n",
    "        #print((w2*dy.transpose(dy.concatenate_cols([embeds1,beta]))).npvalue().shape)\n",
    "        #print(b2.npvalue().shape)\n",
    "        \n",
    "        v1i = w2*dy.transpose(dy.concatenate_cols([embeds1,beta])) + b2\n",
    "        v2j = w3*dy.transpose(dy.concatenate_cols([embeds2,alpha])) + b3\n",
    "        if debug:\n",
    "            print('v1:', (embedding_dim,len1[k]), v1i.dim())\n",
    "            print('v2:', (embedding_dim,len2[k]), v2j.dim())\n",
    "        \n",
    "        v1 = dy.mean_dim(v1i,[1],0)\n",
    "        v1 = dy.reshape(v1,(embedding_dim,1)) \n",
    "        \n",
    "        v2 = dy.mean_dim(v2j,[1],0)\n",
    "        v2 = dy.reshape(v2,(embedding_dim,1)) \n",
    "        \n",
    "        score = w*dy.concatenate([v1,v2],d=0) + b\n",
    "        \n",
    "        return score\n",
    "        \n",
    "    def train(self):\n",
    "        len1 = self.len1\n",
    "        len2 = self.len2\n",
    "        embedding_dim = self.embedding_dim\n",
    "        lr = 0.001\n",
    "        trainer = dy.AdamTrainer(self.pc, alpha = lr)\n",
    "        \n",
    "        iter = 0\n",
    "        for epochs in range(100):\n",
    "            tl = 0\n",
    "            for k in range(len(self.labels)):\n",
    "                iter += 1\n",
    "                dy.renew_cg()\n",
    "                x1 = self.data1[k,0:len1[k]]\n",
    "                x2 = self.data2[k,0:len2[k]]\n",
    "                label = self.labels[k]\n",
    "\n",
    "                score = self.forward(x1,x2,label,k,tl)\n",
    "                norm_score = dy.logistic(score)\n",
    "                \n",
    "                loss = dy.binary_log_loss(norm_score,dy.inputTensor([[label]]))\n",
    "                loss.backward()\n",
    "                trainer.update()\n",
    "                tl += loss.scalar_value()\n",
    "                #if iter % dev_iter == 0:\n",
    "                    #predict_fn\n",
    "            if epochs in [5,15,30,50] :\n",
    "                lr /= 2\n",
    "                trainer = dy.AdamTrainer(self.pc, alpha = lr)\n",
    "                    \n",
    "            print('Train loss after ' + str(epochs+1) + ' epochs: ' + str(tl/len(self.labels)))\n",
    "\n",
    "def main():\n",
    "    \n",
    "    model = decomposable_attention(sent_indices, sent_mask, labels, embedding_dim=128, debug=False)\n",
    "    model.train()\n",
    "    \n",
    "main()           "
   ]
  },
  {
   "cell_type": "code",
   "execution_count": 10,
   "metadata": {},
   "outputs": [
    {
     "ename": "ValueError",
     "evalue": "Mismatched input dimensions in MatrixMultiply: [{222X10} {222X15}]",
     "output_type": "error",
     "traceback": [
      "\u001b[0;31m---------------------------------------------------------------------------\u001b[0m",
      "\u001b[0;31mValueError\u001b[0m                                Traceback (most recent call last)",
      "\u001b[0;32m<ipython-input-10-165fff488ca1>\u001b[0m in \u001b[0;36m<module>\u001b[0;34m()\u001b[0m\n\u001b[1;32m      7\u001b[0m \u001b[0mb\u001b[0m \u001b[0;34m=\u001b[0m \u001b[0mdy\u001b[0m\u001b[0;34m.\u001b[0m\u001b[0mlookup_batch\u001b[0m\u001b[0;34m(\u001b[0m\u001b[0membedding_matrix\u001b[0m\u001b[0;34m,\u001b[0m\u001b[0mx2\u001b[0m\u001b[0;34m)\u001b[0m\u001b[0;34m\u001b[0m\u001b[0m\n\u001b[1;32m      8\u001b[0m \u001b[0;34m\u001b[0m\u001b[0m\n\u001b[0;32m----> 9\u001b[0;31m \u001b[0mc\u001b[0m \u001b[0;34m=\u001b[0m \u001b[0ma\u001b[0m\u001b[0;34m*\u001b[0m\u001b[0mb\u001b[0m\u001b[0;34m\u001b[0m\u001b[0m\n\u001b[0m\u001b[1;32m     10\u001b[0m \u001b[0;32mprint\u001b[0m\u001b[0;34m(\u001b[0m\u001b[0mc\u001b[0m\u001b[0;34m.\u001b[0m\u001b[0mdim\u001b[0m\u001b[0;34m(\u001b[0m\u001b[0;34m)\u001b[0m\u001b[0;34m)\u001b[0m\u001b[0;34m\u001b[0m\u001b[0m\n",
      "\u001b[0;32m_dynet.pyx\u001b[0m in \u001b[0;36m_dynet.Expression.__mul__\u001b[0;34m()\u001b[0m\n",
      "\u001b[0;32m_dynet.pyx\u001b[0m in \u001b[0;36m_dynet._mul\u001b[0;34m()\u001b[0m\n",
      "\u001b[0;31mValueError\u001b[0m: Mismatched input dimensions in MatrixMultiply: [{222X10} {222X15}]"
     ]
    }
   ],
   "source": [
    "x1 = np.random.randint(5,size=10)\n",
    "x2 = np.random.randint(5,size=15)\n",
    "\n",
    "pc = dy.Model()\n",
    "embedding_matrix = pc.add_lookup_parameters((168000,222))\n",
    "a = dy.lookup_batch(embedding_matrix,x1)\n",
    "b = dy.lookup_batch(embedding_matrix,x2)\n",
    "\n",
    "c = a*b\n",
    "print(c.dim())"
   ]
  },
  {
   "cell_type": "code",
   "execution_count": 28,
   "metadata": {},
   "outputs": [
    {
     "data": {
      "text/plain": [
       "array([ 0.48167747, -0.07805443, -0.22833993,  0.49472263, -0.24113466,\n",
       "        0.788912  ,  0.25677112, -0.74309444])"
      ]
     },
     "execution_count": 28,
     "metadata": {},
     "output_type": "execute_result"
    }
   ],
   "source": [
    "\n",
    "pc = dy.Model()\n",
    "s = pc.add_parameters((4))\n",
    "s1 = pc.add_parameters((4))\n",
    "\n",
    "dy.renew_cg()\n",
    "sa = dy.parameter(s)\n",
    "sb = dy.parameter(s1)\n",
    "na = dy.concatenate([sa,sb])\n",
    "na.npvalue()\n",
    "#n_b = dy.softmax(similarity,d=1)"
   ]
  },
  {
   "cell_type": "code",
   "execution_count": 42,
   "metadata": {
    "collapsed": true
   },
   "outputs": [],
   "source": [
    "def encoder(document, W_cnn, b_cnn, W, b):\n",
    "        dy.renew_cg()\n",
    "        W_cnn = dy.parameter(W_cnn)\n",
    "        b_cnn = dy.parameter(b_cnn)\n",
    "        W = dy.parameter(W)\n",
    "        b = dy.parameter(b)\n",
    "\n",
    "\n",
    "        cnn_in = dy.concatenate([dy.lookup(lookup,x) for x in document], d=1)\n",
    "        cnn_out = dy.conv2d_bias(cnn_in, W_cnn, b_cnn, stride=(1, 2), is_valid=False)\n",
    "        cnn_out = dy.conv2d_bias(cnn_out, W, b, stride = (1,2), is_valid=False)\n",
    "        pool_out = dy.mean_dim(cnn_out, d=[1], b=0)\n",
    "        print(pool_out.npvalue().shape)\n",
    "        pool_out = dy.reshape(pool_out, (32,))\n",
    "        pool_out = dy.rectify(pool_out)\n",
    "\n",
    "        return pool_out"
   ]
  },
  {
   "cell_type": "code",
   "execution_count": 43,
   "metadata": {},
   "outputs": [
    {
     "name": "stdout",
     "output_type": "stream",
     "text": [
      "(1, 32)\n",
      "(1, 32)\n",
      "(1, 32)\n",
      "(1, 32)\n",
      "(1, 32)\n",
      "(1, 32)\n",
      "(1, 32)\n",
      "(1, 32)\n",
      "(1, 32)\n",
      "(1, 32)\n",
      "(1, 32)\n",
      "(1, 32)\n",
      "(1, 32)\n",
      "(1, 32)\n",
      "(1, 32)\n",
      "(1, 32)\n",
      "(1, 32)\n",
      "(1, 32)\n",
      "(1, 32)\n",
      "(1, 32)\n",
      "(1, 32)\n",
      "(1, 32)\n",
      "(1, 32)\n",
      "(1, 32)\n",
      "(1, 32)\n",
      "(1, 32)\n",
      "(1, 32)\n",
      "(1, 32)\n",
      "(1, 32)\n",
      "(1, 32)\n",
      "(1, 32)\n",
      "(1, 32)\n",
      "(1, 32)\n",
      "(1, 32)\n",
      "(1, 32)\n",
      "(1, 32)\n",
      "(1, 32)\n",
      "(1, 32)\n",
      "(1, 32)\n",
      "(1, 32)\n",
      "(1, 32)\n",
      "(1, 32)\n",
      "(1, 32)\n",
      "(1, 32)\n",
      "(1, 32)\n",
      "(1, 32)\n",
      "(1, 32)\n",
      "(1, 32)\n",
      "(1, 32)\n",
      "(1, 32)\n",
      "(1, 32)\n",
      "(1, 32)\n",
      "(1, 32)\n",
      "(1, 32)\n",
      "(1, 32)\n",
      "(1, 32)\n",
      "(1, 32)\n",
      "(1, 32)\n",
      "(1, 32)\n",
      "(1, 32)\n",
      "(1, 32)\n",
      "(1, 32)\n",
      "(1, 32)\n",
      "(1, 32)\n",
      "(1, 32)\n",
      "(1, 32)\n",
      "(1, 32)\n",
      "(1, 32)\n",
      "(1, 32)\n",
      "(1, 32)\n",
      "(1, 32)\n",
      "(1, 32)\n",
      "(1, 32)\n",
      "(1, 32)\n",
      "(1, 32)\n",
      "(1, 32)\n",
      "(1, 32)\n",
      "(1, 32)\n",
      "(1, 32)\n",
      "(1, 32)\n",
      "(1, 32)\n",
      "(1, 32)\n",
      "(1, 32)\n",
      "(1, 32)\n",
      "(1, 32)\n",
      "(1, 32)\n",
      "(1, 32)\n",
      "(1, 32)\n",
      "(1, 32)\n",
      "(1, 32)\n",
      "(1, 32)\n",
      "(1, 32)\n",
      "(1, 32)\n",
      "(1, 32)\n",
      "(1, 32)\n",
      "(1, 32)\n",
      "(1, 32)\n",
      "(1, 32)\n",
      "(1, 32)\n",
      "(1, 32)\n"
     ]
    }
   ],
   "source": [
    "len1 = np.sum(sent_mask[:10000,:], axis = 1, dtype = int)\n",
    "len2 = np.sum(sent_mask[10000:20000,:], axis = 1, dtype = int)\n",
    "\n",
    "pc = dy.Model()\n",
    "W_cnn = pc.add_parameters((1, 2, 128, 64)) # cnn weights\n",
    "b_cnn = pc.add_parameters((64))\n",
    "W = pc.add_parameters((1, 2, 64, 32)) # cnn weights\n",
    "b = pc.add_parameters((32))\n",
    "lookup = pc.add_lookup_parameters((20000, 1, 1, 128))\n",
    "for k in range(100):\n",
    "    document = sent_indices[k][0:len1[k]]\n",
    "    z = encoder(document, W_cnn, b_cnn, W, b)\n",
    "#     print(z.npvalue().shape)\n",
    "                "
   ]
  },
  {
   "cell_type": "code",
   "execution_count": null,
   "metadata": {
    "collapsed": true
   },
   "outputs": [],
   "source": []
  }
 ],
 "metadata": {
  "kernelspec": {
   "display_name": "Python 2",
   "language": "python",
   "name": "python2"
  },
  "language_info": {
   "codemirror_mode": {
    "name": "ipython",
    "version": 2
   },
   "file_extension": ".py",
   "mimetype": "text/x-python",
   "name": "python",
   "nbconvert_exporter": "python",
   "pygments_lexer": "ipython2",
   "version": "2.7.13"
  }
 },
 "nbformat": 4,
 "nbformat_minor": 2
}
