{
 "cells": [
  {
   "cell_type": "code",
   "execution_count": 45,
   "metadata": {
    "collapsed": true
   },
   "outputs": [],
   "source": [
    "import numpy as np\n",
    "from sklearn.feature_extraction.text import CountVectorizer\n",
    "import pandas as pd\n",
    "from collections import Counter \n",
    "from bs4 import BeautifulSoup \n",
    "import nltk\n",
    "import re\n",
    "from nltk.tokenize import word_tokenize\n",
    "from nltk.util import ngrams\n",
    "from nltk.corpus import stopwords \n",
    "from nltk.stem import WordNetLemmatizer\n",
    "wordnet_lemmatizer = WordNetLemmatizer()\n",
    "from nltk.stem import SnowballStemmer\n",
    "snowball_stemmer = SnowballStemmer(\"english\")\n",
    "stop = set(stopwords.words('english'))\n",
    "\n",
    "import pickle\n",
    "\n",
    "def dump(obj,filename):\n",
    "    filehandler = open(filename,\"wb\")\n",
    "    pickle.dump(obj,filehandler)\n",
    "    filehandler.close()\n",
    "\n",
    "def load(filename):\n",
    "    file = open(filename,'rb')\n",
    "    obj = pickle.load(file)\n",
    "    file.close()\n",
    "    return obj\n",
    "\n",
    "\n",
    "def getCleanText(text):\n",
    "    parse_text = BeautifulSoup(text).get_text()\n",
    "    \n",
    "    letters_only = re.sub(r'http[s]?:\\/\\/(?:[a-zA-Z]|[0-9]|[$-_@.&+]|[!*\\(\\),]|(?:%[0-9a-fA-F][0-9a-fA-F]))+', ' url ', \n",
    "                          parse_text, flags=re.MULTILINE)\n",
    "    letters_only = re.sub('^(1?[0-9]|2[0-3]):[0-5][0-9]$','time',letters_only)\n",
    "    letters_only = re.sub('(name|NAME)\\d{1,}','username',letters_only)\n",
    "    \n",
    "    \n",
    "    letters_only = re.sub(\"[^a-zA-Z0-9\\.:']\",  \n",
    "                      \" \",                   \n",
    "                      letters_only)\n",
    "    letters_only = letters_only.replace('\\n',\" \")\n",
    "    letters_only = letters_only.replace('\\r',\" \")\n",
    "    letters_only = re.sub('[.]{2,}', '. ', letters_only)\n",
    "    \n",
    "    \n",
    "    \n",
    "    #lower = letters_only.lower()\n",
    "  \n",
    "    \n",
    "    \n",
    "    #words = word_tokenize(lower)\n",
    "    words = CountVectorizer(stop_words='english').build_tokenizer()(letters_only.lower())\n",
    "    \n",
    "    \n",
    "    meaningful_words = [ w for w in words if len(w)> 0 and len(w)<15 and w not in stop]\n",
    "    \n",
    "    \n",
    "    #meaningful_words = [w if (w not in countries) and (w not in cities) else u\"country\" for w in meaningful_words]\n",
    "    lem_words = [wordnet_lemmatizer.lemmatize(w) for w in  meaningful_words]\n",
    "    stem_words = [snowball_stemmer.stem(w) for w in lem_words]\n",
    "    \n",
    "    \n",
    "    \n",
    "    clean_text = \" \".join(stem_words)\n",
    "\n",
    "    return clean_text\n",
    "\n",
    "text = getCleanText(\"<html><head><body> Hi how https://www.google.com </body></head></html>\")"
   ]
  },
  {
   "cell_type": "code",
   "execution_count": null,
   "metadata": {
    "collapsed": true
   },
   "outputs": [],
   "source": []
  }
 ],
 "metadata": {
  "kernelspec": {
   "display_name": "Python 2",
   "language": "python",
   "name": "python2"
  },
  "language_info": {
   "codemirror_mode": {
    "name": "ipython",
    "version": 2
   },
   "file_extension": ".py",
   "mimetype": "text/x-python",
   "name": "python",
   "nbconvert_exporter": "python",
   "pygments_lexer": "ipython2",
   "version": "2.7.13"
  }
 },
 "nbformat": 4,
 "nbformat_minor": 2
}
